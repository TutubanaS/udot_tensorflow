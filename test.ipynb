{
 "cells": [
  {
   "cell_type": "code",
   "execution_count": null,
   "metadata": {},
   "outputs": [],
   "source": [
    "import numpy as np\n",
    "import os\n",
    "import pandas as pd\n",
    "import tensorflow.compat.v2 as tf\n",
    "import tensorflow_hub as hub\n",
    "\n",
    "from simpleneighbors import SimpleNeighbors\n",
    "import sklearn, pickle"
   ]
  },
  {
   "cell_type": "code",
   "execution_count": null,
   "metadata": {},
   "outputs": [],
   "source": [
    "# The 16-language multilingual module is the default but feel free\n",
    "# to pick others from the list and compare the results.\n",
    "module_url = 'https://tfhub.dev/google/universal-sentence-encoder-multilingual/3' #@param ['https://tfhub.dev/google/universal-sentence-encoder-multilingual/3', 'https://tfhub.dev/google/universal-sentence-encoder-multilingual-large/3']\n",
    "\n",
    "model = hub.load(module_url)\n",
    "\n",
    "def embed_text(input):\n",
    "  return model(input)\n"
   ]
  },
  {
   "cell_type": "markdown",
   "metadata": {
    "id": "3J9IKy97l-iP"
   },
   "source": [
    "## Loading pickle the model \n",
    "\n",
    "If you already have the index and the pickle file you can directly load the model though this cell"
   ]
  },
  {
   "cell_type": "code",
   "execution_count": null,
   "metadata": {
    "id": "X4GhUXcvmZ3M"
   },
   "outputs": [],
   "source": [
    "index = SimpleNeighbors(512) #defining the algorithm\n",
    "index = index.load(os.path.join('/content','index_model'))"
   ]
  },
  {
   "cell_type": "markdown",
   "metadata": {
    "id": "0v_4WzhGmiiZ"
   },
   "source": [
    "## Interactive testing\n",
    "\n",
    "run in colab to use the interactive parameters"
   ]
  },
  {
   "cell_type": "code",
   "execution_count": null,
   "metadata": {
    "colab": {
     "base_uri": "https://localhost:8080/"
    },
    "id": "mMoX2dJFml8J",
    "outputId": "88f24871-30da-4a0b-c53d-7b56ca562b58"
   },
   "outputs": [],
   "source": [
    "sample_query = 'Software developer with 5 years of experience'  #@param [\"Global warming\", \"Researchers made a surprising new discovery last week.\", \"The stock market fell four points.\", \"Lawmakers will vote on the proposal tomorrow.\"] {allow-input: true}\n",
    "num_results = 10  #@param {type:\"slider\", min:0, max:50, step:5}\n",
    "\n",
    "query_embedding = embed_text(sample_query)[0]\n",
    "search_results = index.nearest(query_embedding, n=num_results)\n",
    "\n",
    "print('sentences similar to: \"{}\"\\n'.format(sample_query))\n",
    "search_results"
   ]
  },
  {
   "cell_type": "code",
   "execution_count": null,
   "metadata": {
    "cellView": "form",
    "id": "THTgqUuJVWp6"
   },
   "outputs": [],
   "source": [
    "#@title Save and download query\n",
    "with open(f'test.txt', 'w') as f:\n",
    "  f.write(f'Query: {sample_query}\\n')\n",
    "  for idx, res in enumerate(search_results):\n",
    "    idx += 1\n",
    "    f.write('\\n\\n\\n')\n",
    "    f.write(f'Result {idx}:\\n{res}')\n",
    "  f.close()"
   ]
  }
 ],
 "metadata": {
  "kernelspec": {
   "display_name": "Python 3.8.13 ('tf_m1')",
   "language": "python",
   "name": "python3"
  },
  "language_info": {
   "name": "python",
   "version": "3.8.13"
  },
  "orig_nbformat": 4,
  "vscode": {
   "interpreter": {
    "hash": "fec93aef4d57bbbb9c0e9c9356baa595d4260ff751a564de0791a780ee4912ed"
   }
  }
 },
 "nbformat": 4,
 "nbformat_minor": 2
}
