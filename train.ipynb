{
  "cells": [
    {
      "cell_type": "markdown",
      "metadata": {
        "id": "Am6UDAsoQ2iA"
      },
      "source": [
        "## Setup"
      ]
    },
    {
      "cell_type": "code",
      "execution_count": 2,
      "metadata": {
        "id": "6FL2VD2nTx9W"
      },
      "outputs": [
        {
          "ename": "ModuleNotFoundError",
          "evalue": "No module named 'tensorflow_hub'",
          "output_type": "error",
          "traceback": [
            "\u001b[0;31m---------------------------------------------------------------------------\u001b[0m",
            "\u001b[0;31mModuleNotFoundError\u001b[0m                       Traceback (most recent call last)",
            "\u001b[1;32m/Users/vittorio/Vega/UniversalDot/tensorflow/train.ipynb Cella 2\u001b[0m in \u001b[0;36m<cell line: 5>\u001b[0;34m()\u001b[0m\n\u001b[1;32m      <a href='vscode-notebook-cell:/Users/vittorio/Vega/UniversalDot/tensorflow/train.ipynb#W2sZmlsZQ%3D%3D?line=2'>3</a>\u001b[0m \u001b[39mimport\u001b[39;00m \u001b[39mpandas\u001b[39;00m \u001b[39mas\u001b[39;00m \u001b[39mpd\u001b[39;00m\n\u001b[1;32m      <a href='vscode-notebook-cell:/Users/vittorio/Vega/UniversalDot/tensorflow/train.ipynb#W2sZmlsZQ%3D%3D?line=3'>4</a>\u001b[0m \u001b[39mimport\u001b[39;00m \u001b[39mtensorflow\u001b[39;00m\u001b[39m.\u001b[39;00m\u001b[39mcompat\u001b[39;00m\u001b[39m.\u001b[39;00m\u001b[39mv2\u001b[39;00m \u001b[39mas\u001b[39;00m \u001b[39mtf\u001b[39;00m\n\u001b[0;32m----> <a href='vscode-notebook-cell:/Users/vittorio/Vega/UniversalDot/tensorflow/train.ipynb#W2sZmlsZQ%3D%3D?line=4'>5</a>\u001b[0m \u001b[39mimport\u001b[39;00m \u001b[39mtensorflow_hub\u001b[39;00m \u001b[39mas\u001b[39;00m \u001b[39mhub\u001b[39;00m\n\u001b[1;32m      <a href='vscode-notebook-cell:/Users/vittorio/Vega/UniversalDot/tensorflow/train.ipynb#W2sZmlsZQ%3D%3D?line=6'>7</a>\u001b[0m \u001b[39mfrom\u001b[39;00m \u001b[39msimpleneighbors\u001b[39;00m \u001b[39mimport\u001b[39;00m SimpleNeighbors\n\u001b[1;32m      <a href='vscode-notebook-cell:/Users/vittorio/Vega/UniversalDot/tensorflow/train.ipynb#W2sZmlsZQ%3D%3D?line=7'>8</a>\u001b[0m \u001b[39mimport\u001b[39;00m \u001b[39msklearn\u001b[39;00m\u001b[39m,\u001b[39m \u001b[39mpickle\u001b[39;00m\n",
            "\u001b[0;31mModuleNotFoundError\u001b[0m: No module named 'tensorflow_hub'"
          ]
        }
      ],
      "source": [
        "import numpy as np\n",
        "import os\n",
        "import pandas as pd\n",
        "import tensorflow.compat.v2 as tf\n",
        "import tensorflow_hub as hub\n",
        "\n",
        "from simpleneighbors import SimpleNeighbors\n",
        "import sklearn, pickle"
      ]
    },
    {
      "cell_type": "markdown",
      "metadata": {
        "id": "MW7rBRkHQ8j_"
      },
      "source": [
        "### Loading the model"
      ]
    },
    {
      "cell_type": "code",
      "execution_count": null,
      "metadata": {
        "id": "p_AT2lp9M2gL"
      },
      "outputs": [],
      "source": [
        "# The 16-language multilingual module is the default but feel free\n",
        "# to pick others from the list and compare the results.\n",
        "module_url = 'https://tfhub.dev/google/universal-sentence-encoder-multilingual/3' #@param ['https://tfhub.dev/google/universal-sentence-encoder-multilingual/3', 'https://tfhub.dev/google/universal-sentence-encoder-multilingual-large/3']\n",
        "\n",
        "model = hub.load(module_url)\n",
        "\n",
        "def embed_text(input):\n",
        "  return model(input)"
      ]
    },
    {
      "cell_type": "markdown",
      "metadata": {
        "id": "Ucp_YQRoskp3"
      },
      "source": [
        "## Training Simple Neighbour algorithm on jobs description dataframe\n",
        "\n",
        "This section is used to preprocess the dataframe and \n"
      ]
    },
    {
      "cell_type": "code",
      "execution_count": null,
      "metadata": {
        "id": "-KQxZpJjstJZ"
      },
      "outputs": [],
      "source": [
        "df = pd.read_csv('dataset/job_desc.csv')"
      ]
    },
    {
      "cell_type": "code",
      "execution_count": null,
      "metadata": {
        "id": "G4OrGjuMvdg-"
      },
      "outputs": [],
      "source": [
        "#embedding the dataset in batches \n",
        "batch_size = 1028\n",
        "embdedded_jobs = []\n",
        "for batch_number, batch_df in df.groupby(np.arange(len(df)) // batch_size):\n",
        "  for text in batch_df:\n",
        "    embdedded_jobs.append(embed_text(text))"
      ]
    },
    {
      "cell_type": "markdown",
      "metadata": {
        "id": "_Ok6AMwlmCZ4"
      },
      "source": [
        "### Building an training the model"
      ]
    },
    {
      "cell_type": "code",
      "execution_count": null,
      "metadata": {
        "colab": {
          "base_uri": "https://localhost:8080/"
        },
        "id": "ihZxNnLuz89S",
        "outputId": "15c79188-bd47-4ce1-8424-b5023a013811"
      },
      "outputs": [],
      "source": [
        "index = SimpleNeighbors(512) #defining the algorithm\n",
        "\n",
        "#adding the embedded job description in the index and building the model \n",
        "for idx, vec in enumerate(embdedded_jobs):\n",
        "    index.add_one(df.iloc[idx], vec[0])\n",
        "index.build()"
      ]
    }
  ],
  "metadata": {
    "colab": {
      "collapsed_sections": [
        "GmUy9uPpQ_Bc",
        "Ucp_YQRoskp3",
        "_Ok6AMwlmCZ4"
      ],
      "name": "Similarity.ipynb",
      "provenance": []
    },
    "gpuClass": "standard",
    "kernelspec": {
      "display_name": "Python 3.8.13 ('tf_m1')",
      "language": "python",
      "name": "python3"
    },
    "language_info": {
      "name": "python",
      "version": "3.8.13"
    },
    "vscode": {
      "interpreter": {
        "hash": "fec93aef4d57bbbb9c0e9c9356baa595d4260ff751a564de0791a780ee4912ed"
      }
    }
  },
  "nbformat": 4,
  "nbformat_minor": 0
}
